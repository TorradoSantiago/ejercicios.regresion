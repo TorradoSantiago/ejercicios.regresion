{
  "nbformat": 4,
  "nbformat_minor": 0,
  "metadata": {
    "colab": {
      "provenance": [],
      "authorship_tag": "ABX9TyNGCq21dmzr2nsm3/wrOt51",
      "include_colab_link": true
    },
    "kernelspec": {
      "name": "python3",
      "display_name": "Python 3"
    },
    "language_info": {
      "name": "python"
    }
  },
  "cells": [
    {
      "cell_type": "markdown",
      "metadata": {
        "id": "view-in-github",
        "colab_type": "text"
      },
      "source": [
        "<a href=\"https://colab.research.google.com/github/TorradoSantiago/ejercicios.regresion/blob/master/REGRESION_SIMPLE.ipynb\" target=\"_parent\"><img src=\"https://colab.research.google.com/assets/colab-badge.svg\" alt=\"Open In Colab\"/></a>"
      ]
    },
    {
      "cell_type": "code",
      "source": [
        "#importamos librerias para graficar\n",
        "import pandas as pd\n",
        "import matplotlib.pyplot as plt\n",
        "import seaborn as sns\n",
        "\n",
        "# Cargamos los datos\n",
        "df = \"/content/drive/MyDrive/met op/LifeExpectancyData.csv\"\n",
        "data = pd.read_csv(df)"
      ],
      "metadata": {
        "id": "7E6JoG7EqA_C"
      },
      "execution_count": 26,
      "outputs": []
    },
    {
      "cell_type": "markdown",
      "source": [
        "#EDA"
      ],
      "metadata": {
        "id": "VwVMoIfkp6Ko"
      }
    },
    {
      "cell_type": "code",
      "source": [
        "# Limpiamos los nombres de las columnas\n",
        "data.columns = data.columns.str.strip()"
      ],
      "metadata": {
        "id": "tGh6MrPEq_d4"
      },
      "execution_count": 11,
      "outputs": []
    },
    {
      "cell_type": "code",
      "source": [
        "# Información básica del dataframe\n",
        "print(data.info())\n"
      ],
      "metadata": {
        "colab": {
          "base_uri": "https://localhost:8080/"
        },
        "id": "twCPmSPfrG7H",
        "outputId": "0b9122c6-bba4-4e1e-e9ef-3c95006f2e6d"
      },
      "execution_count": 12,
      "outputs": [
        {
          "output_type": "stream",
          "name": "stdout",
          "text": [
            "<class 'pandas.core.frame.DataFrame'>\n",
            "RangeIndex: 2938 entries, 0 to 2937\n",
            "Data columns (total 22 columns):\n",
            " #   Column                           Non-Null Count  Dtype  \n",
            "---  ------                           --------------  -----  \n",
            " 0   Country                          2938 non-null   object \n",
            " 1   Year                             2938 non-null   int64  \n",
            " 2   Status                           2938 non-null   object \n",
            " 3   Life expectancy                  2928 non-null   float64\n",
            " 4   Adult Mortality                  2928 non-null   float64\n",
            " 5   infant deaths                    2938 non-null   int64  \n",
            " 6   Alcohol                          2744 non-null   float64\n",
            " 7   percentage expenditure           2938 non-null   float64\n",
            " 8   Hepatitis B                      2385 non-null   float64\n",
            " 9   Measles                          2938 non-null   int64  \n",
            " 10  BMI                              2904 non-null   float64\n",
            " 11  under-five deaths                2938 non-null   int64  \n",
            " 12  Polio                            2919 non-null   float64\n",
            " 13  Total expenditure                2712 non-null   float64\n",
            " 14  Diphtheria                       2919 non-null   float64\n",
            " 15  HIV/AIDS                         2938 non-null   float64\n",
            " 16  GDP                              2490 non-null   float64\n",
            " 17  Population                       2286 non-null   float64\n",
            " 18  thinness  1-19 years             2904 non-null   float64\n",
            " 19  thinness 5-9 years               2904 non-null   float64\n",
            " 20  Income composition of resources  2771 non-null   float64\n",
            " 21  Schooling                        2775 non-null   float64\n",
            "dtypes: float64(16), int64(4), object(2)\n",
            "memory usage: 505.1+ KB\n",
            "None\n"
          ]
        }
      ]
    },
    {
      "cell_type": "code",
      "source": [
        "\n",
        "# Estadísticas descriptivas\n",
        "print(data.describe())"
      ],
      "metadata": {
        "colab": {
          "base_uri": "https://localhost:8080/"
        },
        "id": "GK3rv8kCrK-u",
        "outputId": "8d10c035-5128-435b-bf96-1032e9b9fc06"
      },
      "execution_count": 6,
      "outputs": [
        {
          "output_type": "stream",
          "name": "stdout",
          "text": [
            "              Year  Life expectancy  Adult Mortality  infant deaths  \\\n",
            "count  2938.000000      2928.000000      2928.000000    2938.000000   \n",
            "mean   2007.518720        69.224932       164.796448      30.303948   \n",
            "std       4.613841         9.523867       124.292079     117.926501   \n",
            "min    2000.000000        36.300000         1.000000       0.000000   \n",
            "25%    2004.000000        63.100000        74.000000       0.000000   \n",
            "50%    2008.000000        72.100000       144.000000       3.000000   \n",
            "75%    2012.000000        75.700000       228.000000      22.000000   \n",
            "max    2015.000000        89.000000       723.000000    1800.000000   \n",
            "\n",
            "           Alcohol  percentage expenditure  Hepatitis B        Measles  \\\n",
            "count  2744.000000             2938.000000  2385.000000    2938.000000   \n",
            "mean      4.602861              738.251295    80.940461    2419.592240   \n",
            "std       4.052413             1987.914858    25.070016   11467.272489   \n",
            "min       0.010000                0.000000     1.000000       0.000000   \n",
            "25%       0.877500                4.685343    77.000000       0.000000   \n",
            "50%       3.755000               64.912906    92.000000      17.000000   \n",
            "75%       7.702500              441.534144    97.000000     360.250000   \n",
            "max      17.870000            19479.911610    99.000000  212183.000000   \n",
            "\n",
            "               BMI  under-five deaths        Polio  Total expenditure  \\\n",
            "count  2904.000000        2938.000000  2919.000000         2712.00000   \n",
            "mean     38.321247          42.035739    82.550188            5.93819   \n",
            "std      20.044034         160.445548    23.428046            2.49832   \n",
            "min       1.000000           0.000000     3.000000            0.37000   \n",
            "25%      19.300000           0.000000    78.000000            4.26000   \n",
            "50%      43.500000           4.000000    93.000000            5.75500   \n",
            "75%      56.200000          28.000000    97.000000            7.49250   \n",
            "max      87.300000        2500.000000    99.000000           17.60000   \n",
            "\n",
            "        Diphtheria     HIV/AIDS            GDP    Population  \\\n",
            "count  2919.000000  2938.000000    2490.000000  2.286000e+03   \n",
            "mean     82.324084     1.742103    7483.158469  1.275338e+07   \n",
            "std      23.716912     5.077785   14270.169342  6.101210e+07   \n",
            "min       2.000000     0.100000       1.681350  3.400000e+01   \n",
            "25%      78.000000     0.100000     463.935626  1.957932e+05   \n",
            "50%      93.000000     0.100000    1766.947595  1.386542e+06   \n",
            "75%      97.000000     0.800000    5910.806335  7.420359e+06   \n",
            "max      99.000000    50.600000  119172.741800  1.293859e+09   \n",
            "\n",
            "       thinness  1-19 years  thinness 5-9 years  \\\n",
            "count           2904.000000         2904.000000   \n",
            "mean               4.839704            4.870317   \n",
            "std                4.420195            4.508882   \n",
            "min                0.100000            0.100000   \n",
            "25%                1.600000            1.500000   \n",
            "50%                3.300000            3.300000   \n",
            "75%                7.200000            7.200000   \n",
            "max               27.700000           28.600000   \n",
            "\n",
            "       Income composition of resources    Schooling  \n",
            "count                      2771.000000  2775.000000  \n",
            "mean                          0.627551    11.992793  \n",
            "std                           0.210904     3.358920  \n",
            "min                           0.000000     0.000000  \n",
            "25%                           0.493000    10.100000  \n",
            "50%                           0.677000    12.300000  \n",
            "75%                           0.779000    14.300000  \n",
            "max                           0.948000    20.700000  \n"
          ]
        }
      ]
    },
    {
      "cell_type": "markdown",
      "source": [],
      "metadata": {
        "id": "1uU0RB8Tre9H"
      }
    },
    {
      "cell_type": "code",
      "source": [
        "print(data.head())"
      ],
      "metadata": {
        "colab": {
          "base_uri": "https://localhost:8080/"
        },
        "id": "pbIjx4W897LJ",
        "outputId": "18475faf-49f4-483c-f5b6-3c455d2c227b"
      },
      "execution_count": 24,
      "outputs": [
        {
          "output_type": "stream",
          "name": "stdout",
          "text": [
            "       Country  Year      Status  Life expectancy  Adult Mortality  \\\n",
            "0  Afghanistan  2015  Developing             65.0            263.0   \n",
            "1  Afghanistan  2014  Developing             59.9            271.0   \n",
            "2  Afghanistan  2013  Developing             59.9            268.0   \n",
            "3  Afghanistan  2012  Developing             59.5            272.0   \n",
            "4  Afghanistan  2011  Developing             59.2            275.0   \n",
            "\n",
            "   infant deaths  Alcohol  percentage expenditure  Hepatitis B  Measles  ...  \\\n",
            "0             62     0.01               71.279624         65.0     1154  ...   \n",
            "1             64     0.01               73.523582         62.0      492  ...   \n",
            "2             66     0.01               73.219243         64.0      430  ...   \n",
            "3             69     0.01               78.184215         67.0     2787  ...   \n",
            "4             71     0.01                7.097109         68.0     3013  ...   \n",
            "\n",
            "   Polio  Total expenditure  Diphtheria  HIV/AIDS         GDP  Population  \\\n",
            "0    6.0               8.16        65.0       0.1  584.259210  33736494.0   \n",
            "1   58.0               8.18        62.0       0.1  612.696514    327582.0   \n",
            "2   62.0               8.13        64.0       0.1  631.744976  31731688.0   \n",
            "3   67.0               8.52        67.0       0.1  669.959000   3696958.0   \n",
            "4   68.0               7.87        68.0       0.1   63.537231   2978599.0   \n",
            "\n",
            "   thinness  1-19 years  thinness 5-9 years  Income composition of resources  \\\n",
            "0                  17.2                17.3                            0.479   \n",
            "1                  17.5                17.5                            0.476   \n",
            "2                  17.7                17.7                            0.470   \n",
            "3                  17.9                18.0                            0.463   \n",
            "4                  18.2                18.2                            0.454   \n",
            "\n",
            "   Schooling  \n",
            "0       10.1  \n",
            "1       10.0  \n",
            "2        9.9  \n",
            "3        9.8  \n",
            "4        9.5  \n",
            "\n",
            "[5 rows x 22 columns]\n"
          ]
        }
      ]
    },
    {
      "cell_type": "code",
      "source": [
        "# Chequeamos valores nulos, si queremos usar alguna de las variables que no estan en 0 vamos a tener que hacer una limpieza de datos\n",
        "print(data.isnull().sum())"
      ],
      "metadata": {
        "colab": {
          "base_uri": "https://localhost:8080/"
        },
        "id": "z2ePGmIGrPdH",
        "outputId": "ee328c03-7001-4ae4-897a-972f3ed654fb"
      },
      "execution_count": 7,
      "outputs": [
        {
          "output_type": "stream",
          "name": "stdout",
          "text": [
            "Country                              0\n",
            "Year                                 0\n",
            "Status                               0\n",
            "Life expectancy                     10\n",
            "Adult Mortality                     10\n",
            "infant deaths                        0\n",
            "Alcohol                            194\n",
            "percentage expenditure               0\n",
            "Hepatitis B                        553\n",
            "Measles                              0\n",
            "BMI                                 34\n",
            "under-five deaths                    0\n",
            "Polio                               19\n",
            "Total expenditure                  226\n",
            "Diphtheria                          19\n",
            "HIV/AIDS                             0\n",
            "GDP                                448\n",
            "Population                         652\n",
            "thinness  1-19 years                34\n",
            "thinness 5-9 years                  34\n",
            "Income composition of resources    167\n",
            "Schooling                          163\n",
            "dtype: int64\n"
          ]
        }
      ]
    },
    {
      "cell_type": "markdown",
      "source": [
        "## EXPLICACION DE VARIBALES\n",
        "- Country: Nombre del país.\n",
        "- Year: Año de los datos.\n",
        "- Status: Estado del país en términos de ser desarrollado o en desarrollo.\n",
        "- Life_Expectancy: Esperanza de vida en años.\n",
        "- Adult_Mortality: Tasas de mortalidad adulta de ambos sexos (probabilidad de morir entre los 15 y los 60 años por cada 1000 habitantes).\n",
        "infant.deaths: Número de muertes infantiles por cada 1000 habitantes.\n",
        "- Alcohol: Consumo de alcohol per cápita registrado (mayores de 15 años) (en litros de alcohol puro).\n",
        "percentage.expenditure: Gasto en salud como porcentaje del Producto Interno Bruto per cápita (%).\n",
        "- Hepatitis.B: Cobertura de inmunización contra la hepatitis B (HepB) entre los niños de un año (%).\n",
        "- Measles: Número de casos reportados de sarampión por cada 1000 habitantes.\n",
        "- BMI: Índice de Masa Corporal promedio de la población total.\n",
        "- under.five.deaths: Número de muertes de menores de cinco años por cada 1000 habitantes.\n",
        "- Polio: Cobertura de inmunización contra la poliomielitis (Pol3) entre los niños de un año (%).\n",
        "- Total.expenditure: Gasto gubernamental general en salud como porcentaje del - gasto gubernamental total (%).\n",
        "- Diphtheria: Cobertura de inmunización contra la difteria, el tétanos y la tos ferina (DTP3) entre los niños de un año (%).\n",
        "- HIV.AIDS: Muertes por VIH/SIDA por cada 1000 nacimientos vivos (de 0 a 4 años).\n",
        "- GDP: Producto Interno Bruto per cápita (en USD).\n",
        "- Population: Población del país.\n",
        "- thinness..1.19.years: Prevalencia de delgadez entre niños y adolescentes de 10 a 19 años (%).\n",
        "- thinness.5.9.years: Prevalencia de delgadez entre niños de 5 a 9 años (%).\n",
        "- Income.composition.of.resources: Índice de Desarrollo Humano en términos de - composición de ingresos de los recursos (índice que varía de 0 a 1).\n",
        "- Schooling: Número de años de escolaridad (años).\n"
      ],
      "metadata": {
        "id": "AqYSLqd7-1lK"
      }
    },
    {
      "cell_type": "markdown",
      "source": [
        "#REGRESIONES LINEALES"
      ],
      "metadata": {
        "id": "ILvWlqdmrgu9"
      }
    },
    {
      "cell_type": "code",
      "source": [
        "#importamos librerias necesariar\n",
        "from sklearn.linear_model import LinearRegression\n",
        "from sklearn.model_selection import train_test_split\n",
        "from sklearn.metrics import mean_squared_error, r2_score\n",
        "from scipy import stats\n"
      ],
      "metadata": {
        "id": "tma5DXP511QU"
      },
      "execution_count": 35,
      "outputs": []
    },
    {
      "cell_type": "markdown",
      "source": [
        "##REGRESION POLIO VS ESPERANZA DE VIDA"
      ],
      "metadata": {
        "id": "mLfB1-Q-roVK"
      }
    },
    {
      "cell_type": "code",
      "source": [
        "# Limpiar los valores nulos tanto de 'Polio' como de 'Esperanza de vida'\n",
        "data_cleaned = data.dropna(subset=['Polio', 'Life expectancy'])\n",
        "\n",
        "# Verificar la limpieza\n",
        "nulos_despues_polio = data_cleaned['Polio'].isnull().sum()\n",
        "nulos_despues_life_exp = data_cleaned['Life expectancy'].isnull().sum()\n",
        "\n",
        "# Preparar y entrenar el modelo de regresión lineal para la variable Polio vs. Esperanza de Vida\n",
        "X_polio = data_cleaned[['Polio']].values\n",
        "y_EsperanzadeV = data_cleaned['Life expectancy'].values\n",
        "\n",
        "# Crear y entrenar el modelo de regresión lineal\n",
        "polio_model = LinearRegression()\n",
        "polio_model.fit(X_polio, y_EsperanzadeV)\n",
        "\n",
        "# Predicciones para el gráfico\n",
        "y_pred_polio = polio_model.predict(X_polio)\n",
        "\n",
        "# Coeficientes del modelo\n",
        "coef_polio = polio_model.coef_[0]\n",
        "intercept_polio = polio_model.intercept_\n",
        "\n",
        "# Crear el gráfico\n",
        "plt.figure(figsize=(10, 6))\n",
        "plt.scatter(X_polio, y_EsperanzadeV, color='blue', label='Datos reales')  # Puntos de datos reales\n",
        "plt.plot(X_polio, y_pred_polio, color='red', label='Línea de regresión')  # Línea de regresión\n",
        "plt.title('Regresión Lineal: Esperanza de Vida vs. Vacunación de Polio') #titulo\n",
        "plt.xlabel('Cobertura de Vacunación de Polio (%)') #eje x\n",
        "plt.ylabel('Esperanza de Vida') #eje y\n",
        "plt.legend()\n",
        "plt.show()\n",
        "\n",
        "(nulos_despues_polio, nulos_despues_life_exp), (coef_polio, intercept_polio)\n",
        "\n"
      ],
      "metadata": {
        "colab": {
          "base_uri": "https://localhost:8080/",
          "height": 584
        },
        "id": "6USfh8KL4jQX",
        "outputId": "6234ab54-18d5-417a-f2f9-b084aa0f41e9"
      },
      "execution_count": 36,
      "outputs": [
        {
          "output_type": "display_data",
          "data": {
            "text/plain": [
              "<Figure size 1000x600 with 1 Axes>"
            ],
            "image/png": "[encoded data removed]"
          },
          "metadata": {}
        },
        {
          "output_type": "execute_result",
          "data": {
            "text/plain": [
              "((0, 0), (0.18875576252670392, 53.70416379414748))"
            ]
          },
          "metadata": {},
          "execution_count": 36
        }
      ]
    },
    {
      "cell_type": "code",
      "source": [
        "# Cálculo de R²\n",
        "r2 = r2_score(y_EsperanzadeV, y_pred_polio)\n",
        "\n",
        "# Estadísticas para el análisis de significancia\n",
        "slope, intercept, r_value, p_value, std_err = stats.linregress(X_polio.ravel(), y_EsperanzadeV)\n",
        "\n",
        "# Imprimir los resultados\n",
        "print(f\"Coeficiente (pendiente): {slope}\") #\n",
        "print(f\"Intercepto: {intercept}\")\n",
        "print(f\"R^2: {r2}\")\n",
        "print(f\"P-value: {p_value}\")\n",
        "print(f\"Error estándar del coeficiente: {std_err}\")"
      ],
      "metadata": {
        "colab": {
          "base_uri": "https://localhost:8080/"
        },
        "id": "Bd3hgyx56VHf",
        "outputId": "880f5d50-d9bd-49e9-e388-472c8acd32c3"
      },
      "execution_count": 37,
      "outputs": [
        {
          "output_type": "stream",
          "name": "stdout",
          "text": [
            "Coeficiente (pendiente): 0.18875576252670345\n",
            "Intercepto: 53.70416379414752\n",
            "R^2: 0.21674220847907943\n",
            "P-value: 1.9596863997004844e-156\n",
            "Error estándar del coeficiente: 0.006655157194446491\n"
          ]
        }
      ]
    },
    {
      "cell_type": "markdown",
      "source": [
        "**Coeficiente:** cuánto cambia la expectativa de vida cuando más personas están vacunadas contra la polio. En este caso, cada vez que el porcentaje de vacunación aumenta en un 1%, la expectativa de vida de la gente aumenta casi 0.19 años.\n",
        "\n",
        "**intercepto:** qué expectativa de vida podríamos esperar si nadie estuviera vacunado contra la polio, lo cual es alrededor de 53.7 años. Es una forma de saber cómo estarían las cosas sin ninguna vacunación.\n",
        "\n",
        "**R2:** Un R2 de 1 significaria que nuestro modelo explica perfectamente la expectativa de vida basada en la cobertura de vacunación. Un R2 de 0 significaría que la cobertura de vacunación no nos dice nada sobre la expectativa de vida. En este caso nos dio 0.2, por lo que parece que poca parte de la esperanza de vida se explica por la cobertura de vacunacion contra la polio\n",
        "\n",
        "**error estandar**: es aproximadamente 45.9% del valor del coeficiente (0.0866 / 0.1888). Esto es relativamente alto\n",
        "\n",
        "**P-Value (significancia estadistica):** *Un p-value alto sugiere que la relación observada podría ser una ocurrencia casual si la hipótesis nula fuera cierta, lo cual no nos proporciona suficiente evidencia para rechazar la hipótesis nula.\n",
        "\n"
      ],
      "metadata": {
        "id": "71hmpE9u_7x4"
      }
    },
    {
      "cell_type": "markdown",
      "source": [
        "##REGRESION Fallecimientos menores a 5 a;os vs gasto en salud y PBI per capita"
      ],
      "metadata": {
        "id": "lcSH54fy4gIX"
      }
    },
    {
      "cell_type": "code",
      "source": [
        "import statsmodels.api as sm\n",
        "\n",
        "# Limpieza de datos nulos en las columnas necesarias para el modelo con PBI\n",
        "data_pbi = data.dropna(subset=['GDP', 'Life expectancy'])\n",
        "\n",
        "# Seleccionar las variables para el modelo OLS con PBI\n",
        "X_pbi = data_pbi[['GDP']]\n",
        "X_pbi = sm.add_constant(X_pbi)\n",
        "\n",
        "# Variable de respuesta\n",
        "y_pbi = data_pbi['Life expectancy']\n",
        "\n",
        "# Ajuste del modelo OLS\n",
        "model_pbi = sm.OLS(y_pbi, X_pbi).fit()\n",
        "\n",
        "# Imprimir el resumen del modelo para PBI\n",
        "print(\"Modelo OLS con PBI:\")\n",
        "print(model_pbi.summary())\n",
        "\n"
      ],
      "metadata": {
        "colab": {
          "base_uri": "https://localhost:8080/"
        },
        "id": "YIDnVbnSHK_8",
        "outputId": "198d63af-8b7d-4fec-8897-917819a41c86"
      },
      "execution_count": 41,
      "outputs": [
        {
          "output_type": "stream",
          "name": "stdout",
          "text": [
            "Modelo OLS con PBI:\n",
            "                            OLS Regression Results                            \n",
            "==============================================================================\n",
            "Dep. Variable:        Life expectancy   R-squared:                       0.213\n",
            "Model:                            OLS   Adj. R-squared:                  0.213\n",
            "Method:                 Least Squares   F-statistic:                     671.8\n",
            "Date:                Mon, 11 Nov 2024   Prob (F-statistic):          2.71e-131\n",
            "Time:                        21:50:11   Log-Likelihood:                -8860.4\n",
            "No. Observations:                2485   AIC:                         1.772e+04\n",
            "Df Residuals:                    2483   BIC:                         1.774e+04\n",
            "Df Model:                           1                                         \n",
            "Covariance Type:            nonrobust                                         \n",
            "==============================================================================\n",
            "                 coef    std err          t      P>|t|      [0.025      0.975]\n",
            "------------------------------------------------------------------------------\n",
            "const         67.0350      0.194    345.700      0.000      66.655      67.415\n",
            "GDP            0.0003    1.2e-05     25.919      0.000       0.000       0.000\n",
            "==============================================================================\n",
            "Omnibus:                      162.773   Durbin-Watson:                   0.381\n",
            "Prob(Omnibus):                  0.000   Jarque-Bera (JB):              195.417\n",
            "Skew:                          -0.686   Prob(JB):                     3.68e-43\n",
            "Kurtosis:                       3.055   Cond. No.                     1.82e+04\n",
            "==============================================================================\n",
            "\n",
            "Notes:\n",
            "[1] Standard Errors assume that the covariance matrix of the errors is correctly specified.\n",
            "[2] The condition number is large, 1.82e+04. This might indicate that there are\n",
            "strong multicollinearity or other numerical problems.\n"
          ]
        }
      ]
    },
    {
      "cell_type": "markdown",
      "source": [
        "El **coeficientede 0.0003**  indica que por cada aumento de 1 USD en el PBI per cápita, la expectativa de vida aumenta en 0.0003 años. Este efecto es estadísticamente significativo, como lo indica el valor p extremadamente bajo (menor que 0.05), y el intervalo de confianza no incluye el cero, lo que refuerza esta conclusión.\n",
        "\n",
        "Este efecto es estadísticamente significativo, como lo indica el **valor p** bajo (menor que 0.05)\n",
        "\n",
        "**R2 de 0.213** significa que el modelo explica el 21.3% de la variabilidad en la expectativa de vida a partir del PBI. Esto indica una relación moderada; aunque el PBI tiene un impacto significativo, hay otros muchos factores que también afectan la expectativa de vida.\n",
        "\n",
        "El modelo muestra que el PBI per cápita tiene un impacto positivo pequeño pero estadísticamente significativo en la expectativa de vida.\n"
      ],
      "metadata": {
        "id": "6O0zuJ20OcYT"
      }
    },
    {
      "cell_type": "code",
      "source": [
        "# Limpieza de datos nulos en las columnas necesarias para el modelo con gastoSALUD\n",
        "data_gastoSALUD = data.dropna(subset=['Total expenditure', 'Life expectancy'])\n",
        "\n",
        "# Seleccionar las variables para el modelo OLS con gastoSALUD\n",
        "X_gastoSALUD = data_gastoSALUD[['Total expenditure']]\n",
        "X_gastoSALUD = sm.add_constant(X_gastoSALUD)\n",
        "\n",
        "# Variable de respuesta\n",
        "y_gastoSALUD = data_gastoSALUD['Life expectancy']\n",
        "\n",
        "# Ajuste del modelo OLS\n",
        "model_gastoSALUD = sm.OLS(y_gastoSALUD, X_gastoSALUD).fit()\n",
        "\n",
        "# Imprimir el resumen del modelo para gastoSALUD\n",
        "print(\"\\nModelo OLS con gastoSALUD:\")\n",
        "print(model_gastoSALUD.summary())"
      ],
      "metadata": {
        "colab": {
          "base_uri": "https://localhost:8080/"
        },
        "id": "1CAnSMAbMrXN",
        "outputId": "05450b82-c0e7-4dc2-85a9-fef8634b1274"
      },
      "execution_count": 42,
      "outputs": [
        {
          "output_type": "stream",
          "name": "stdout",
          "text": [
            "\n",
            "Modelo OLS con gastoSALUD:\n",
            "                            OLS Regression Results                            \n",
            "==============================================================================\n",
            "Dep. Variable:        Life expectancy   R-squared:                       0.048\n",
            "Model:                            OLS   Adj. R-squared:                  0.047\n",
            "Method:                 Least Squares   F-statistic:                     134.8\n",
            "Date:                Mon, 11 Nov 2024   Prob (F-statistic):           1.88e-30\n",
            "Time:                        21:50:26   Log-Likelihood:                -9859.1\n",
            "No. Observations:                2702   AIC:                         1.972e+04\n",
            "Df Residuals:                    2700   BIC:                         1.973e+04\n",
            "Df Model:                           1                                         \n",
            "Covariance Type:            nonrobust                                         \n",
            "=====================================================================================\n",
            "                        coef    std err          t      P>|t|      [0.025      0.975]\n",
            "-------------------------------------------------------------------------------------\n",
            "const                64.2621      0.463    138.682      0.000      63.354      65.171\n",
            "Total expenditure     0.8369      0.072     11.612      0.000       0.696       0.978\n",
            "==============================================================================\n",
            "Omnibus:                      212.695   Durbin-Watson:                   0.199\n",
            "Prob(Omnibus):                  0.000   Jarque-Bera (JB):              263.982\n",
            "Skew:                          -0.759   Prob(JB):                     4.75e-58\n",
            "Kurtosis:                       3.199   Cond. No.                         17.0\n",
            "==============================================================================\n",
            "\n",
            "Notes:\n",
            "[1] Standard Errors assume that the covariance matrix of the errors is correctly specified.\n"
          ]
        }
      ]
    },
    {
      "cell_type": "markdown",
      "source": [
        " El **coeficiente de 0.8369** indica que por cada aumento de 1% en el gasto total en salud como porcentaje del gasto gubernamental total, la expectativa de vida aumenta en 0.8369 años. Este efecto es estadísticamente significativo, como lo indica el valor p extremadamente bajo (menor que 0.05), y el intervalo de confianza que no incluye el cero, reforzando esta conclusión.\n",
        "\n",
        "Un *** p value*** muy bajo confirma que el efecto del gasto en salud en la expectativa de vida es estadísticamente significativo.Esto implica que los incrementos en el gasto en salud están fuertemente asociados con mejoras en la expectativa de vida.\n",
        "\n",
        "un **r2 de 0.048** significa que el modelo explica aproximadamente el 4.8% de la variabilidad en la expectativa de vida a partir del gasto en salud. Aunque este porcentaje es bastante bajo, indica que mientras el gasto en salud tiene un impacto estadísticamente significativo sobre la expectativa de vida,\n"
      ],
      "metadata": {
        "id": "ePbm5iF7Pp50"
      }
    },
    {
      "cell_type": "markdown",
      "source": [
        "El modelo muestra que el gasto en salud tiene un impacto positivo y significativo en la expectativa de vida, aunque hay otros factores que no estan incluidos que tienen influencia."
      ],
      "metadata": {
        "id": "MebAkMEMQGnC"
      }
    }
  ]
}